{
 "cells": [
  {
   "cell_type": "raw",
   "id": "0aff0194",
   "metadata": {},
   "source": [
    "Appendix A \n",
    "\n",
    "Improting the libraries, reading and cleaning the data and performing initial summary statistics and visualization\n",
    "\n",
    "Note: While cleaning the data, I'm mainly interested in the 2 columns corresponding to the 2 variables. Therefore, I only check the missing values in these columns!"
   ]
  },
  {
   "cell_type": "code",
   "execution_count": 1,
   "id": "31a4341f",
   "metadata": {},
   "outputs": [],
   "source": [
    "#importing libraries \n",
    "\n",
    "import numpy as np\n",
    "import pandas as pd\n",
    "from scipy import stats\n",
    "import statistics\n",
    "import matplotlib.pyplot as plt"
   ]
  },
  {
   "cell_type": "code",
   "execution_count": 2,
   "id": "6dec13da",
   "metadata": {},
   "outputs": [
    {
     "data": {
      "text/html": [
       "<div>\n",
       "<style scoped>\n",
       "    .dataframe tbody tr th:only-of-type {\n",
       "        vertical-align: middle;\n",
       "    }\n",
       "\n",
       "    .dataframe tbody tr th {\n",
       "        vertical-align: top;\n",
       "    }\n",
       "\n",
       "    .dataframe thead th {\n",
       "        text-align: right;\n",
       "    }\n",
       "</style>\n",
       "<table border=\"1\" class=\"dataframe\">\n",
       "  <thead>\n",
       "    <tr style=\"text-align: right;\">\n",
       "      <th></th>\n",
       "      <th>Pregnancies</th>\n",
       "      <th>Glucose</th>\n",
       "      <th>BloodPressure</th>\n",
       "      <th>SkinThickness</th>\n",
       "      <th>Insulin</th>\n",
       "      <th>BMI</th>\n",
       "      <th>DiabetesPedigreeFunction</th>\n",
       "      <th>Age</th>\n",
       "      <th>Outcome</th>\n",
       "    </tr>\n",
       "  </thead>\n",
       "  <tbody>\n",
       "    <tr>\n",
       "      <th>0</th>\n",
       "      <td>6</td>\n",
       "      <td>148</td>\n",
       "      <td>72</td>\n",
       "      <td>35</td>\n",
       "      <td>0</td>\n",
       "      <td>33.6</td>\n",
       "      <td>0.627</td>\n",
       "      <td>50</td>\n",
       "      <td>1</td>\n",
       "    </tr>\n",
       "    <tr>\n",
       "      <th>1</th>\n",
       "      <td>1</td>\n",
       "      <td>85</td>\n",
       "      <td>66</td>\n",
       "      <td>29</td>\n",
       "      <td>0</td>\n",
       "      <td>26.6</td>\n",
       "      <td>0.351</td>\n",
       "      <td>31</td>\n",
       "      <td>0</td>\n",
       "    </tr>\n",
       "    <tr>\n",
       "      <th>2</th>\n",
       "      <td>8</td>\n",
       "      <td>183</td>\n",
       "      <td>64</td>\n",
       "      <td>0</td>\n",
       "      <td>0</td>\n",
       "      <td>23.3</td>\n",
       "      <td>0.672</td>\n",
       "      <td>32</td>\n",
       "      <td>1</td>\n",
       "    </tr>\n",
       "    <tr>\n",
       "      <th>3</th>\n",
       "      <td>1</td>\n",
       "      <td>89</td>\n",
       "      <td>66</td>\n",
       "      <td>23</td>\n",
       "      <td>94</td>\n",
       "      <td>28.1</td>\n",
       "      <td>0.167</td>\n",
       "      <td>21</td>\n",
       "      <td>0</td>\n",
       "    </tr>\n",
       "    <tr>\n",
       "      <th>4</th>\n",
       "      <td>0</td>\n",
       "      <td>137</td>\n",
       "      <td>40</td>\n",
       "      <td>35</td>\n",
       "      <td>168</td>\n",
       "      <td>43.1</td>\n",
       "      <td>2.288</td>\n",
       "      <td>33</td>\n",
       "      <td>1</td>\n",
       "    </tr>\n",
       "    <tr>\n",
       "      <th>5</th>\n",
       "      <td>5</td>\n",
       "      <td>116</td>\n",
       "      <td>74</td>\n",
       "      <td>0</td>\n",
       "      <td>0</td>\n",
       "      <td>25.6</td>\n",
       "      <td>0.201</td>\n",
       "      <td>30</td>\n",
       "      <td>0</td>\n",
       "    </tr>\n",
       "    <tr>\n",
       "      <th>6</th>\n",
       "      <td>3</td>\n",
       "      <td>78</td>\n",
       "      <td>50</td>\n",
       "      <td>32</td>\n",
       "      <td>88</td>\n",
       "      <td>31.0</td>\n",
       "      <td>0.248</td>\n",
       "      <td>26</td>\n",
       "      <td>1</td>\n",
       "    </tr>\n",
       "    <tr>\n",
       "      <th>7</th>\n",
       "      <td>10</td>\n",
       "      <td>115</td>\n",
       "      <td>0</td>\n",
       "      <td>0</td>\n",
       "      <td>0</td>\n",
       "      <td>35.3</td>\n",
       "      <td>0.134</td>\n",
       "      <td>29</td>\n",
       "      <td>0</td>\n",
       "    </tr>\n",
       "    <tr>\n",
       "      <th>8</th>\n",
       "      <td>2</td>\n",
       "      <td>197</td>\n",
       "      <td>70</td>\n",
       "      <td>45</td>\n",
       "      <td>543</td>\n",
       "      <td>30.5</td>\n",
       "      <td>0.158</td>\n",
       "      <td>53</td>\n",
       "      <td>1</td>\n",
       "    </tr>\n",
       "    <tr>\n",
       "      <th>9</th>\n",
       "      <td>8</td>\n",
       "      <td>125</td>\n",
       "      <td>96</td>\n",
       "      <td>0</td>\n",
       "      <td>0</td>\n",
       "      <td>0.0</td>\n",
       "      <td>0.232</td>\n",
       "      <td>54</td>\n",
       "      <td>1</td>\n",
       "    </tr>\n",
       "  </tbody>\n",
       "</table>\n",
       "</div>"
      ],
      "text/plain": [
       "   Pregnancies  Glucose  BloodPressure  SkinThickness  Insulin   BMI  \\\n",
       "0            6      148             72             35        0  33.6   \n",
       "1            1       85             66             29        0  26.6   \n",
       "2            8      183             64              0        0  23.3   \n",
       "3            1       89             66             23       94  28.1   \n",
       "4            0      137             40             35      168  43.1   \n",
       "5            5      116             74              0        0  25.6   \n",
       "6            3       78             50             32       88  31.0   \n",
       "7           10      115              0              0        0  35.3   \n",
       "8            2      197             70             45      543  30.5   \n",
       "9            8      125             96              0        0   0.0   \n",
       "\n",
       "   DiabetesPedigreeFunction  Age  Outcome  \n",
       "0                     0.627   50        1  \n",
       "1                     0.351   31        0  \n",
       "2                     0.672   32        1  \n",
       "3                     0.167   21        0  \n",
       "4                     2.288   33        1  \n",
       "5                     0.201   30        0  \n",
       "6                     0.248   26        1  \n",
       "7                     0.134   29        0  \n",
       "8                     0.158   53        1  \n",
       "9                     0.232   54        1  "
      ]
     },
     "execution_count": 2,
     "metadata": {},
     "output_type": "execute_result"
    }
   ],
   "source": [
    "\n",
    "#importing the dataset and reading it as a dataframe\n",
    "our_data = pd.read_csv(\"https://course-resources.minerva.edu/uploaded_files/mu/00294342-2873/diabetes.csv\")  \n",
    "\n",
    "our_data.head(10) #showing the first 10 rows of the data\n"
   ]
  },
  {
   "cell_type": "code",
   "execution_count": 3,
   "id": "5263986e",
   "metadata": {},
   "outputs": [
    {
     "name": "stdout",
     "output_type": "stream",
     "text": [
      "The sample size =  768\n"
     ]
    }
   ],
   "source": [
    "print(\"The sample size = \", len(our_data)) #print the dataset sample size\n"
   ]
  },
  {
   "cell_type": "code",
   "execution_count": 5,
   "id": "ce336751",
   "metadata": {},
   "outputs": [
    {
     "name": "stdout",
     "output_type": "stream",
     "text": [
      "there are no missing values corresponding to Glucose Concentrations or BMI\n"
     ]
    }
   ],
   "source": [
    "#drop any missing values in the 2 columns of Glucose & BMI\n",
    "\n",
    "clean_data = our_data.dropna(subset = ['Glucose', 'BMI'])\n",
    "\n",
    "\n",
    "#check if there were any missing values\n",
    "\n",
    "if len(clean_data) == len(our_data):\n",
    "    \n",
    "    #if there were no missing values , further invistigation will depend on \"our_data\"\n",
    "    print (\"there are no missing values corresponding to Glucose Concentrations or BMI\")\n",
    "    \n",
    "    \n",
    "else:\n",
    "    \n",
    "    # if there were missing values, further invistigation will depend on \"clean_data\" as \"our_data\"\n",
    "    print(\"clean dataset sample size = \", len(clean_data))\n",
    "    our_data = clean_data"
   ]
  },
  {
   "cell_type": "code",
   "execution_count": 6,
   "id": "4eb9de76",
   "metadata": {},
   "outputs": [
    {
     "data": {
      "text/html": [
       "<div>\n",
       "<style scoped>\n",
       "    .dataframe tbody tr th:only-of-type {\n",
       "        vertical-align: middle;\n",
       "    }\n",
       "\n",
       "    .dataframe tbody tr th {\n",
       "        vertical-align: top;\n",
       "    }\n",
       "\n",
       "    .dataframe thead th {\n",
       "        text-align: right;\n",
       "    }\n",
       "</style>\n",
       "<table border=\"1\" class=\"dataframe\">\n",
       "  <thead>\n",
       "    <tr style=\"text-align: right;\">\n",
       "      <th></th>\n",
       "      <th>Glucose</th>\n",
       "      <th>BMI</th>\n",
       "    </tr>\n",
       "  </thead>\n",
       "  <tbody>\n",
       "    <tr>\n",
       "      <th>count</th>\n",
       "      <td>768.000000</td>\n",
       "      <td>768.000000</td>\n",
       "    </tr>\n",
       "    <tr>\n",
       "      <th>mean</th>\n",
       "      <td>120.894531</td>\n",
       "      <td>31.992578</td>\n",
       "    </tr>\n",
       "    <tr>\n",
       "      <th>std</th>\n",
       "      <td>31.972618</td>\n",
       "      <td>7.884160</td>\n",
       "    </tr>\n",
       "    <tr>\n",
       "      <th>min</th>\n",
       "      <td>0.000000</td>\n",
       "      <td>0.000000</td>\n",
       "    </tr>\n",
       "    <tr>\n",
       "      <th>25%</th>\n",
       "      <td>99.000000</td>\n",
       "      <td>27.300000</td>\n",
       "    </tr>\n",
       "    <tr>\n",
       "      <th>50%</th>\n",
       "      <td>117.000000</td>\n",
       "      <td>32.000000</td>\n",
       "    </tr>\n",
       "    <tr>\n",
       "      <th>75%</th>\n",
       "      <td>140.250000</td>\n",
       "      <td>36.600000</td>\n",
       "    </tr>\n",
       "    <tr>\n",
       "      <th>max</th>\n",
       "      <td>199.000000</td>\n",
       "      <td>67.100000</td>\n",
       "    </tr>\n",
       "  </tbody>\n",
       "</table>\n",
       "</div>"
      ],
      "text/plain": [
       "          Glucose         BMI\n",
       "count  768.000000  768.000000\n",
       "mean   120.894531   31.992578\n",
       "std     31.972618    7.884160\n",
       "min      0.000000    0.000000\n",
       "25%     99.000000   27.300000\n",
       "50%    117.000000   32.000000\n",
       "75%    140.250000   36.600000\n",
       "max    199.000000   67.100000"
      ]
     },
     "execution_count": 6,
     "metadata": {},
     "output_type": "execute_result"
    }
   ],
   "source": [
    "#get descriptive stats for the 2 variables\n",
    "\n",
    "our_data.loc[:,['Glucose', 'BMI']].describe()"
   ]
  },
  {
   "cell_type": "code",
   "execution_count": 7,
   "id": "7840aa09",
   "metadata": {},
   "outputs": [],
   "source": [
    "#get descriptive stats of interest to any variable \n",
    "\n",
    "#define the function returing a table of the useful descriptive stats\n",
    "def descriptive_stats(variable): \n",
    "    \n",
    "    count = len(variable) #sample size\n",
    "    mean = np.mean(variable)  #sample mean\n",
    "    median = np.median (variable)  # sample median\n",
    "    mode = statistics.mode (variable)  #sample mode\n",
    "    std = np.std (variable, ddof = 1)  #sample standard deviation\n",
    "    the_range = max(variable) - min(variable)  #sample range\n",
    "    \n",
    "    \n",
    "    #create a table of the descriptive statistics\n",
    "   \n",
    "    descriptive_statistics = {\n",
    "        'count': [count],\n",
    "        'mean': [round(mean, 3)],   \n",
    "        'median': [round (median, 3)],\n",
    "        'mode': [round (mode, 3)],\n",
    "        'range': [round(the_range, 3)],\n",
    "        'sample std': [round(std, 3)],\n",
    "    \n",
    "    }\n",
    "    our_table = pd.DataFrame(data= descriptive_statistics)\n",
    "    return our_table"
   ]
  },
  {
   "cell_type": "code",
   "execution_count": 8,
   "id": "b1f962c4",
   "metadata": {},
   "outputs": [
    {
     "data": {
      "text/html": [
       "<div>\n",
       "<style scoped>\n",
       "    .dataframe tbody tr th:only-of-type {\n",
       "        vertical-align: middle;\n",
       "    }\n",
       "\n",
       "    .dataframe tbody tr th {\n",
       "        vertical-align: top;\n",
       "    }\n",
       "\n",
       "    .dataframe thead th {\n",
       "        text-align: right;\n",
       "    }\n",
       "</style>\n",
       "<table border=\"1\" class=\"dataframe\">\n",
       "  <thead>\n",
       "    <tr style=\"text-align: right;\">\n",
       "      <th></th>\n",
       "      <th>count</th>\n",
       "      <th>mean</th>\n",
       "      <th>median</th>\n",
       "      <th>mode</th>\n",
       "      <th>range</th>\n",
       "      <th>sample std</th>\n",
       "    </tr>\n",
       "  </thead>\n",
       "  <tbody>\n",
       "    <tr>\n",
       "      <th>0</th>\n",
       "      <td>768</td>\n",
       "      <td>31.993</td>\n",
       "      <td>32.0</td>\n",
       "      <td>32.0</td>\n",
       "      <td>67.1</td>\n",
       "      <td>7.884</td>\n",
       "    </tr>\n",
       "  </tbody>\n",
       "</table>\n",
       "</div>"
      ],
      "text/plain": [
       "   count    mean  median  mode  range  sample std\n",
       "0    768  31.993    32.0  32.0   67.1       7.884"
      ]
     },
     "execution_count": 8,
     "metadata": {},
     "output_type": "execute_result"
    }
   ],
   "source": [
    "#get descriptive stats for the independent variable\n",
    "\n",
    "descriptive_stats(our_data['BMI'])"
   ]
  },
  {
   "cell_type": "code",
   "execution_count": 9,
   "id": "b018eabb",
   "metadata": {},
   "outputs": [
    {
     "data": {
      "text/html": [
       "<div>\n",
       "<style scoped>\n",
       "    .dataframe tbody tr th:only-of-type {\n",
       "        vertical-align: middle;\n",
       "    }\n",
       "\n",
       "    .dataframe tbody tr th {\n",
       "        vertical-align: top;\n",
       "    }\n",
       "\n",
       "    .dataframe thead th {\n",
       "        text-align: right;\n",
       "    }\n",
       "</style>\n",
       "<table border=\"1\" class=\"dataframe\">\n",
       "  <thead>\n",
       "    <tr style=\"text-align: right;\">\n",
       "      <th></th>\n",
       "      <th>count</th>\n",
       "      <th>mean</th>\n",
       "      <th>median</th>\n",
       "      <th>mode</th>\n",
       "      <th>range</th>\n",
       "      <th>sample std</th>\n",
       "    </tr>\n",
       "  </thead>\n",
       "  <tbody>\n",
       "    <tr>\n",
       "      <th>0</th>\n",
       "      <td>768</td>\n",
       "      <td>120.895</td>\n",
       "      <td>117.0</td>\n",
       "      <td>100</td>\n",
       "      <td>199</td>\n",
       "      <td>31.973</td>\n",
       "    </tr>\n",
       "  </tbody>\n",
       "</table>\n",
       "</div>"
      ],
      "text/plain": [
       "   count     mean  median  mode  range  sample std\n",
       "0    768  120.895   117.0   100    199      31.973"
      ]
     },
     "execution_count": 9,
     "metadata": {},
     "output_type": "execute_result"
    }
   ],
   "source": [
    "#get descriptive stats for the dependent variable\n",
    "\n",
    "descriptive_stats(our_data['Glucose'])"
   ]
  },
  {
   "cell_type": "code",
   "execution_count": 23,
   "id": "70047a02",
   "metadata": {},
   "outputs": [
    {
     "data": {
      "image/png": "[encoded data removed]",
      "text/plain": [
       "<Figure size 432x288 with 1 Axes>"
      ]
     },
     "metadata": {
      "needs_background": "light"
     },
     "output_type": "display_data"
    }
   ],
   "source": [
    "#histogram for the body mass index BMI\n",
    "\n",
    "\n",
    "plt.hist(our_data['BMI'], bins = 20, color='c', edgecolor='k', alpha=0.7 )\n",
    "  \n",
    "plt.xlabel('Body Mass Index (kg/m2)')\n",
    "plt.ylabel('Frequency(number of individuals)')\n",
    "\n",
    "#plotting the line representing the mean\n",
    "plt.axvline(our_data['BMI'].mean(), color='k', linestyle='dashed', linewidth=1) \n",
    "\n",
    "#adjusting the text \n",
    "min_ylim, max_ylim = plt.ylim()\n",
    "plt.text(our_data['BMI'].mean()*1.1, max_ylim*0.9,'Mean: {:.3f}'.format(our_data['BMI'].mean()))\n",
    "\n",
    "plt.title('The absolute freqency corresponding to each measure of the Body Mass Index')\n",
    "plt.show()\n",
    "\n"
   ]
  },
  {
   "cell_type": "code",
   "execution_count": 29,
   "id": "9b458a04",
   "metadata": {},
   "outputs": [
    {
     "data": {
      "image/png": "[encoded data removed]",
      "text/plain": [
       "<Figure size 432x288 with 1 Axes>"
      ]
     },
     "metadata": {
      "needs_background": "light"
     },
     "output_type": "display_data"
    }
   ],
   "source": [
    "#histogram for the Glucose concentration\n",
    "\n",
    "plt.hist(our_data['Glucose'], bins = 20, color='b', edgecolor='k', alpha=0.6 )\n",
    "  \n",
    "plt.xlabel('Plasma Glucose Concentration (mg/dL)')\n",
    "plt.ylabel('Frequency(number of individuals)')\n",
    "\n",
    "#plotting the line representing the mean\n",
    "plt.axvline(our_data['Glucose'].mean(), color='k', linestyle='dashed', linewidth=1) \n",
    "\n",
    "#adjusting the text \n",
    "min_ylim, max_ylim = plt.ylim()\n",
    "plt.text(our_data['Glucose'].mean()*1.1, max_ylim*0.9,'Mean: {:.3f}'.format(our_data['Glucose'].mean()))\n",
    "\n",
    "plt.title('The absolute freqency corresponding to each measure of the Plasma Glucose Concentration')\n",
    "plt.show()"
   ]
  },
  {
   "cell_type": "raw",
   "id": "2ed0f3e5",
   "metadata": {},
   "source": [
    "Appendix B\n",
    "\n",
    "Working with the 2 subgroups of the independent variable to see their effect on the dependent variable \n",
    "\n",
    "This section includes:\n",
    "\n",
    "Summary statistics & histograms of the dependent variable corresponding to the 2 subgroups\n",
    "\n",
    "\n",
    "Note: converting to list is just for potential use in the coming calculations (generally wasn't used unless creating the functions for descriptive stats without using numpy)\n"
   ]
  },
  {
   "cell_type": "code",
   "execution_count": 112,
   "id": "f9757512",
   "metadata": {},
   "outputs": [
    {
     "data": {
      "text/plain": [
       "count    102.000000\n",
       "mean     107.980392\n",
       "std       27.335097\n",
       "min        0.000000\n",
       "25%       94.000000\n",
       "50%      103.000000\n",
       "75%      119.750000\n",
       "max      194.000000\n",
       "Name: Glucose, dtype: float64"
      ]
     },
     "execution_count": 112,
     "metadata": {},
     "output_type": "execute_result"
    }
   ],
   "source": [
    "#Glucose levels corresponding to normal BMI [18.5 , 25) \n",
    "\n",
    "\n",
    "normal_corr_Glucose = our_data['Glucose'][(our_data['BMI'] >= 18.5) & (our_data['BMI'] < 25)]   \n",
    "\n",
    "#convert to list \n",
    "normal_corr_Glucose_list = normal_corr_Glucose.tolist()\n",
    "\n",
    "\n",
    "#getting descriptive stats\n",
    "\n",
    "normal_corr_Glucose.describe()\n",
    "\n"
   ]
  },
  {
   "cell_type": "code",
   "execution_count": 113,
   "id": "45e1dad9",
   "metadata": {},
   "outputs": [
    {
     "data": {
      "text/plain": [
       "count    651.000000\n",
       "mean     123.356375\n",
       "std       32.293732\n",
       "min        0.000000\n",
       "25%      100.000000\n",
       "50%      120.000000\n",
       "75%      144.000000\n",
       "max      199.000000\n",
       "Name: Glucose, dtype: float64"
      ]
     },
     "execution_count": 113,
     "metadata": {},
     "output_type": "execute_result"
    }
   ],
   "source": [
    "#Glucose levels corresponding to high BMI >= 25 \n",
    "\n",
    "\n",
    "high_corr_Glucose = our_data['Glucose'][our_data['BMI'] >= 25]   \n",
    "\n",
    "#convert to list \n",
    "high_corr_Glucose_list = high_corr_Glucose.tolist()\n",
    "\n",
    "#getting descriptive stats\n",
    "\n",
    "high_corr_Glucose.describe()"
   ]
  },
  {
   "cell_type": "code",
   "execution_count": 114,
   "id": "c61610c5",
   "metadata": {},
   "outputs": [
    {
     "data": {
      "text/html": [
       "<div>\n",
       "<style scoped>\n",
       "    .dataframe tbody tr th:only-of-type {\n",
       "        vertical-align: middle;\n",
       "    }\n",
       "\n",
       "    .dataframe tbody tr th {\n",
       "        vertical-align: top;\n",
       "    }\n",
       "\n",
       "    .dataframe thead th {\n",
       "        text-align: right;\n",
       "    }\n",
       "</style>\n",
       "<table border=\"1\" class=\"dataframe\">\n",
       "  <thead>\n",
       "    <tr style=\"text-align: right;\">\n",
       "      <th></th>\n",
       "      <th>count</th>\n",
       "      <th>mean</th>\n",
       "      <th>median</th>\n",
       "      <th>mode</th>\n",
       "      <th>range</th>\n",
       "      <th>sample std</th>\n",
       "    </tr>\n",
       "  </thead>\n",
       "  <tbody>\n",
       "    <tr>\n",
       "      <th>0</th>\n",
       "      <td>102</td>\n",
       "      <td>107.98</td>\n",
       "      <td>103.0</td>\n",
       "      <td>101</td>\n",
       "      <td>194</td>\n",
       "      <td>27.335</td>\n",
       "    </tr>\n",
       "  </tbody>\n",
       "</table>\n",
       "</div>"
      ],
      "text/plain": [
       "   count    mean  median  mode  range  sample std\n",
       "0    102  107.98   103.0   101    194      27.335"
      ]
     },
     "execution_count": 114,
     "metadata": {},
     "output_type": "execute_result"
    }
   ],
   "source": [
    "#get descriptive stats for the dependent variable corresponding to normal BMI subgroup\n",
    "descriptive_stats(normal_corr_Glucose)"
   ]
  },
  {
   "cell_type": "code",
   "execution_count": 115,
   "id": "ec54ab2b",
   "metadata": {},
   "outputs": [
    {
     "data": {
      "text/html": [
       "<div>\n",
       "<style scoped>\n",
       "    .dataframe tbody tr th:only-of-type {\n",
       "        vertical-align: middle;\n",
       "    }\n",
       "\n",
       "    .dataframe tbody tr th {\n",
       "        vertical-align: top;\n",
       "    }\n",
       "\n",
       "    .dataframe thead th {\n",
       "        text-align: right;\n",
       "    }\n",
       "</style>\n",
       "<table border=\"1\" class=\"dataframe\">\n",
       "  <thead>\n",
       "    <tr style=\"text-align: right;\">\n",
       "      <th></th>\n",
       "      <th>count</th>\n",
       "      <th>mean</th>\n",
       "      <th>median</th>\n",
       "      <th>mode</th>\n",
       "      <th>range</th>\n",
       "      <th>sample std</th>\n",
       "    </tr>\n",
       "  </thead>\n",
       "  <tbody>\n",
       "    <tr>\n",
       "      <th>0</th>\n",
       "      <td>651</td>\n",
       "      <td>123.356</td>\n",
       "      <td>120.0</td>\n",
       "      <td>100</td>\n",
       "      <td>199</td>\n",
       "      <td>32.294</td>\n",
       "    </tr>\n",
       "  </tbody>\n",
       "</table>\n",
       "</div>"
      ],
      "text/plain": [
       "   count     mean  median  mode  range  sample std\n",
       "0    651  123.356   120.0   100    199      32.294"
      ]
     },
     "execution_count": 115,
     "metadata": {},
     "output_type": "execute_result"
    }
   ],
   "source": [
    "#get descriptive stats for the dependent variable corresponding to high BMI subgroup\n",
    "descriptive_stats(high_corr_Glucose)"
   ]
  },
  {
   "cell_type": "code",
   "execution_count": 116,
   "id": "f162733d",
   "metadata": {},
   "outputs": [],
   "source": [
    "def calculate_mean(variable_list):\n",
    "    \n",
    "    return sum(variable_list)/ len(variable_list)\n",
    "\n"
   ]
  },
  {
   "cell_type": "code",
   "execution_count": 117,
   "id": "6c9683ac",
   "metadata": {},
   "outputs": [
    {
     "data": {
      "text/plain": [
       "107.98039215686275"
      ]
     },
     "execution_count": 117,
     "metadata": {},
     "output_type": "execute_result"
    }
   ],
   "source": [
    "#mean \n",
    "calculate_mean(normal_corr_Glucose_list)"
   ]
  },
  {
   "cell_type": "code",
   "execution_count": 118,
   "id": "cb0d4d9b",
   "metadata": {},
   "outputs": [
    {
     "data": {
      "text/plain": [
       "123.3563748079877"
      ]
     },
     "execution_count": 118,
     "metadata": {},
     "output_type": "execute_result"
    }
   ],
   "source": [
    "#mean\n",
    "calculate_mean(high_corr_Glucose_list)"
   ]
  },
  {
   "cell_type": "code",
   "execution_count": 119,
   "id": "ca8f62ef",
   "metadata": {},
   "outputs": [],
   "source": [
    "#function to get the sample standard deviation\n",
    "def sample_std(variable):\n",
    "    \n",
    "    #apply the formula for the standard deviation -->. sqrt[{sum(x-mean)^2}/N-1]\n",
    "    distance_from_mean = variable - calculate_mean(variable.tolist())\n",
    "    sq_distance_from_mean = distance_from_mean ** 2\n",
    "    sum_sq_distance = sum(sq_distance_from_mean)\n",
    "    variance = sum_sq_distance / (len(variable)-1) # for sample \n",
    "    # (len(our_data['Glucose'])) for population \n",
    "    return variance ** (1/2)"
   ]
  },
  {
   "cell_type": "code",
   "execution_count": 120,
   "id": "e2274e49",
   "metadata": {},
   "outputs": [
    {
     "data": {
      "text/plain": [
       "27.335097082651043"
      ]
     },
     "execution_count": 120,
     "metadata": {},
     "output_type": "execute_result"
    }
   ],
   "source": [
    "#standard deviation\n",
    "sample_std(normal_corr_Glucose)"
   ]
  },
  {
   "cell_type": "code",
   "execution_count": 121,
   "id": "9b842f95",
   "metadata": {},
   "outputs": [
    {
     "data": {
      "text/plain": [
       "32.29373173387218"
      ]
     },
     "execution_count": 121,
     "metadata": {},
     "output_type": "execute_result"
    }
   ],
   "source": [
    "#standard deviation\n",
    "sample_std(high_corr_Glucose)"
   ]
  },
  {
   "cell_type": "code",
   "execution_count": 122,
   "id": "cf1562e6",
   "metadata": {},
   "outputs": [
    {
     "data": {
      "image/png": "[encoded data removed]",
      "text/plain": [
       "<Figure size 432x288 with 1 Axes>"
      ]
     },
     "metadata": {
      "needs_background": "light"
     },
     "output_type": "display_data"
    }
   ],
   "source": [
    "#histogram for the dependent variable corresponding to normal BMI subgroup\n",
    "\n",
    "\n",
    "plt.hist(normal_corr_Glucose, bins = 20, color='c', edgecolor='k', alpha=0.5 )\n",
    "  \n",
    "    \n",
    "plt.xlabel('Glucose level of individuals with normal BMI (mg/dL) ')\n",
    "plt.ylabel('frequency(number of individuals)')\n",
    "\n",
    "#plotting the line representing the mean\n",
    "plt.axvline(normal_corr_Glucose.mean(), color='k', linestyle='dashed', linewidth=1)\n",
    "\n",
    "#adjusting the text \n",
    "min_ylim, max_ylim = plt.ylim()\n",
    "plt.text(normal_corr_Glucose.mean()*1.1, max_ylim*0.9, 'Mean: {:.2f}'.format(normal_corr_Glucose.mean()))\n",
    "\n",
    "plt.title('The absolute frequency of Glucose level of individuals with normal BMI')\n",
    "plt.show()"
   ]
  },
  {
   "cell_type": "code",
   "execution_count": 123,
   "id": "84e186bb",
   "metadata": {},
   "outputs": [
    {
     "data": {
      "image/png": "[encoded data removed]",
      "text/plain": [
       "<Figure size 432x288 with 1 Axes>"
      ]
     },
     "metadata": {
      "needs_background": "light"
     },
     "output_type": "display_data"
    }
   ],
   "source": [
    "#histogram for the dependent variable corresponding to high BMI subgroup\n",
    "\n",
    "\n",
    "plt.hist(high_corr_Glucose, bins = 20, color='b', edgecolor='k', alpha=0.5 )\n",
    "  \n",
    "plt.xlabel('Glucose level of individuals with high BMI (mg/dL) ')\n",
    "plt.ylabel('Frequency(number of individuals)')\n",
    "\n",
    "#plotting the line representing the mean\n",
    "plt.axvline(high_corr_Glucose.mean(), color='k', linestyle='dashed', linewidth=1) \n",
    "\n",
    "#adjusting the text \n",
    "min_ylim, max_ylim = plt.ylim()\n",
    "plt.text(high_corr_Glucose.mean()*1.1, max_ylim*0.9,'Mean: {:.3f}'.format(high_corr_Glucose.mean()))\n",
    "\n",
    "plt.title('The absolute frequency of Glucose level of individuals with high BMI')\n",
    "plt.show()"
   ]
  },
  {
   "cell_type": "code",
   "execution_count": 124,
   "id": "b5a7d1ab",
   "metadata": {},
   "outputs": [
    {
     "data": {
      "image/png": "[encoded data removed]",
      "text/plain": [
       "<Figure size 432x288 with 1 Axes>"
      ]
     },
     "metadata": {
      "needs_background": "light"
     },
     "output_type": "display_data"
    }
   ],
   "source": [
    "#histogram combined\n",
    "plt.hist(normal_corr_Glucose, bins = 20 , label='Glucose level of individuals with normal BMI' , alpha = 0.9)\n",
    "plt.hist(high_corr_Glucose, bins = 20 , label= 'Glucose level of individuals with high BMI' , alpha = 0.3)\n",
    "plt.xlabel('Plasma glucose concentration (mg/dL)')\n",
    "plt.ylabel('frequency(number of individuals)')\n",
    "\n",
    "#plotting the line representing the mean -first group\n",
    "plt.axvline(normal_corr_Glucose.mean(), color='b', linestyle='dashed', linewidth=1) \n",
    "\n",
    "#adjusting the text \n",
    "min_ylim, max_ylim = plt.ylim()\n",
    "plt.text(normal_corr_Glucose.mean()*1.1, max_ylim*0.9,'Mean: {:.3f}'.format(normal_corr_Glucose.mean()))\n",
    "\n",
    "#plotting the line representing the mean -second group\n",
    "plt.axvline(high_corr_Glucose.mean(), color='k', linestyle='dashed', linewidth=1) \n",
    "\n",
    "#adjusting the text \n",
    "min_ylim, max_ylim = plt.ylim()\n",
    "plt.text(high_corr_Glucose.mean()*1.1, max_ylim*0.9,'Mean: {:.3f}'.format(high_corr_Glucose.mean()))\n",
    "\n",
    "plt.title('The absolute frequency corresponding to plasma glucose concentration of each subgroup')\n",
    "plt.legend(loc = 'best')\n",
    "plt.show()"
   ]
  },
  {
   "cell_type": "markdown",
   "id": "eba9a485",
   "metadata": {},
   "source": [
    "Appendix C\n",
    "\n",
    "This is just for ensuring the conditions of inference are met, especially the independence condition \n"
   ]
  },
  {
   "cell_type": "code",
   "execution_count": 69,
   "id": "6f4ad48f",
   "metadata": {},
   "outputs": [],
   "source": [
    "#check the sample observations are independent\n",
    "\n",
    "pop_size = 10070       #population size\n",
    "\n",
    "def is_independent(sample, population):\n",
    "    \n",
    "    #sample size\n",
    "    n = len(sample)\n",
    "    \n",
    "    #ratio of the sample size to the population size\n",
    "    ratio = n / population\n",
    "    \n",
    "    if ratio <= 0.1:\n",
    "        \n",
    "        print (\"Since the the sample size represents \", round (ratio , 3)*100 , \" % of the population, it's independent\")\n",
    "        return True\n",
    "    else:\n",
    "        \n",
    "        print (\"Since the the sample size represents \", round (ratio , 3)*100 , \" % of the population, it's not independent\")\n",
    "        return False\n"
   ]
  },
  {
   "cell_type": "code",
   "execution_count": 70,
   "id": "ecf5bf99",
   "metadata": {},
   "outputs": [
    {
     "name": "stdout",
     "output_type": "stream",
     "text": [
      "Since the the sample size represents  1.0  % of the population, it's independent\n"
     ]
    },
    {
     "data": {
      "text/plain": [
       "True"
      ]
     },
     "execution_count": 70,
     "metadata": {},
     "output_type": "execute_result"
    }
   ],
   "source": [
    "#check the sample size for the first subgroup\n",
    "is_independent(normal_corr_Glucose,pop_size)"
   ]
  },
  {
   "cell_type": "code",
   "execution_count": 71,
   "id": "e9c87c59",
   "metadata": {},
   "outputs": [
    {
     "name": "stdout",
     "output_type": "stream",
     "text": [
      "Since the the sample size represents  6.5  % of the population, it's independent\n"
     ]
    },
    {
     "data": {
      "text/plain": [
       "True"
      ]
     },
     "execution_count": 71,
     "metadata": {},
     "output_type": "execute_result"
    }
   ],
   "source": [
    "#check the sample size for the second subgroup\n",
    "is_independent(high_corr_Glucose,pop_size)"
   ]
  },
  {
   "cell_type": "raw",
   "id": "6c311289",
   "metadata": {},
   "source": [
    "Appendix D\n",
    "\n",
    "Testing the hypothesis including:\n",
    "\n",
    "difference of means test \n",
    "\n",
    "Checking for correstions \n",
    "\n",
    "1) Bassel's correction already applied using ddof = 1 while calculating the sample variance or standard deviation\n",
    "2) The finite population correction factor \n",
    "3) Bonferroni correction, when 2 or more statistical analysis are performed on the same sample. However, since I'm only working on the mean (1 statistical analysis), this correction isn't necessary\n",
    "\n",
    "statistical significance\n",
    "practical significance\n",
    "power"
   ]
  },
  {
   "cell_type": "code",
   "execution_count": 87,
   "id": "0613842c",
   "metadata": {},
   "outputs": [
    {
     "name": "stdout",
     "output_type": "stream",
     "text": [
      "Since the the sample size represents  1.0  % of the population, it's independent\n",
      "Since the the sample size represents  6.5  % of the population, it's independent\n",
      "t-score = 5.14608581565513\n",
      "p = 6.563220680266824e-07\n",
      "d = 0.48547446182832343\n",
      "g = 0.4849894723559675\n",
      "upward bias = 0.048 %\n",
      "Power = 99.9999998 %\n"
     ]
    }
   ],
   "source": [
    "\n",
    "#define a function to calculate the significance and the power \n",
    "#the function parameters are the samples, number of tails, significance level & population size\n",
    "\n",
    "def diff_of_means(sample1,sample2,tails, alpha, N):  \n",
    "    \n",
    "    #2 sample sizes\n",
    "    n1 = len(sample1)\n",
    "    n2 = len(sample2)\n",
    "    \n",
    "    #2 samples means\n",
    "    x1 = np.mean(sample1)\n",
    "    x2 = np.mean(sample2)\n",
    "\n",
    "    #2 samples standard deviation\n",
    "    s1 = np.std(sample1, ddof =1)        #Bassel's correction applied\n",
    "    s2 = np.std(sample2, ddof =1)\n",
    "\n",
    "    # the finite population correction factor for either of 2 samples    \n",
    "    fpcf1 = np.sqrt((N - n1)/(N - 1))\n",
    "    fpcf2 = np.sqrt((N - n2)/(N - 1))\n",
    "      \n",
    "    \n",
    "   \n",
    " #checking when to apply the correction factor \n",
    "    \n",
    "    if is_independent(sample1,N) and is_independent(sample2,N):   #2 samples are independent \n",
    "        \n",
    "        # calculate the standard error for the statistical significance\n",
    "        standard_error =  np.sqrt((s1**2/n1) + (s2**2/n2))   # no need for correction\n",
    "        \n",
    "        #calculate the pooled standard deviation for the practical significance\n",
    "        sd_pooled = np.sqrt((s1**2*(n1-1) + s2**2*(n2-1))/(n1+n2-2))\n",
    "        \n",
    "    elif is_independent(sample1,pop_size):  # only sample 1 is independent\n",
    "        \n",
    "        standard_error =  np.sqrt((s1**2/n1) + (s2**2/n2) *fpcf2)  #correct for sample 2\n",
    "        sd_pooled = np.sqrt((s1**2*(n1-1) + s2**2*(n2-1)* fpcf2)/(n1+n2-2))\n",
    "        \n",
    "    elif is_independent(sample2,pop_size):    #only sample 2 is independent\n",
    "        standard_error =  np.sqrt((s1**2/n1)* fpcf1 + (s2**2/n2))  #correct for sample 1\n",
    "        sd_pooled = np.sqrt((s1**2*(n1-1)* fpcf1 + s2**2*(n2-1) )/(n1+n2-2))\n",
    "        \n",
    "    else:   #none is independent\n",
    "        standard_error =  np.sqrt((s1**2/n1)* fpcf1 + (s2**2/n2)* fpcf2)  #correct for both\n",
    "        sd_pooled = np.sqrt((s1**2*(n1-1)* fpcf1 + s2**2*(n2-1)* fpcf2)/(n1+n2-2))\n",
    "        \n",
    "    standard_error =  np.sqrt((s1**2/n1) + (s2**2/n2))\n",
    "    sd_pooled = np.sqrt((s1**2*(n1-1) + s2**2*(n2-1))/(n1+n2-2))\n",
    "        \n",
    " \n",
    "\n",
    "\n",
    "    # calculate the t score in the distribution of the difference of the 2 means\n",
    "    t_score = np.abs(x2-x1)/standard_error\n",
    "        \n",
    "    print('t-score =', t_score)\n",
    "    \n",
    "    \n",
    "    #get the degrees of freedom\n",
    "    df = min(n1-1, n2-1)\n",
    "    \n",
    "    \n",
    "    #Calculate the p-value (statistical significance)\n",
    "    percentile = stats.t.cdf(t_score,df)\n",
    "    p_value = 1- percentile\n",
    "    \n",
    "    print('p =',p_value) \n",
    "    \n",
    "    \n",
    "    #practical significance\n",
    "    cohens_d = (x2-x1)/sd_pooled\n",
    "    hedges_g = cohens_d * (1-(3/(4*(n1+n2)-9)))\n",
    "    \n",
    "    \n",
    "    #the upward bias resulted by Cohen's d\n",
    "    upward_bias = cohens_d - hedges_g\n",
    "\n",
    "    \n",
    "    print('d =',cohens_d) \n",
    "    print('g =',hedges_g)\n",
    "    print ('upward bias =', round(upward_bias*100, 3) , '%')\n",
    "    \n",
    "    \n",
    "    \n",
    "\n",
    "#calculating power\n",
    "\n",
    "    \n",
    "    t_null= stats.t.ppf(1- alpha, df) #t score in the null hypothesis distribution\n",
    "    \n",
    "    threshold = t_null * standard_error  #the value of the mean separating bet. rejection or failing to reject the null\n",
    "    \n",
    "    t_alter = ( np.abs(x1-x2 - threshold))/ standard_error  #t score in the alternative hypothesis distribution\n",
    "     \n",
    "    power = stats.t.cdf(t_alter,df)     \n",
    "   \n",
    "    print (\"Power =\", round (power*100, 7) , \"%\")\n",
    " \n",
    "diff_of_means(normal_corr_Glucose, high_corr_Glucose, 1, 0.1, 10070)\n",
    "\n"
   ]
  },
  {
   "cell_type": "raw",
   "id": "a919b46a",
   "metadata": {},
   "source": [
    "Appendix E\n",
    "\n",
    "    confidence intervals of the difference of the 2 means and also for each subgroup"
   ]
  },
  {
   "cell_type": "code",
   "execution_count": 91,
   "id": "0497fd65",
   "metadata": {},
   "outputs": [
    {
     "name": "stdout",
     "output_type": "stream",
     "text": [
      "confidence interval of difference of the means = [ 9.45 , 21.3 ]\n"
     ]
    }
   ],
   "source": [
    "#conficence interval for the difference of the 2 means\n",
    "\n",
    "\n",
    "# working backward\n",
    "# conf needs the mean itself and the margin of error \n",
    "# so, mean depending on the dataset\n",
    "#margin of error needs the t-score and SE\n",
    "# t-score which needs the null mean and the \n",
    "\n",
    "\n",
    "def conf_interval(sample1, sample2, conf_level, N ):\n",
    "    \n",
    "    \n",
    "    #2 sample sizes\n",
    "    n1 = len(sample1)\n",
    "    n2 = len(sample2)\n",
    "    \n",
    "    \n",
    "    #2 samples means\n",
    "    x1 = np.mean(sample1)\n",
    "    x2 = np.mean(sample2)\n",
    "\n",
    "    #2 samples standard deviation\n",
    "    s1 = np.std(sample1, ddof =1)\n",
    "    s2 = np.std(sample2, ddof =1)\n",
    "    \n",
    "    \n",
    "    #checking whan to apply the correction factor \n",
    "    \n",
    "    if n1/ N > 0.1 and n2 / N > 0.1:\n",
    "        \n",
    "        # calculate the standard error \n",
    "        SE =  np.sqrt((s1**2/n1)*fpcf1 + (s2**2/n2)*fpcf2)\n",
    " \n",
    "    elif n1/ N > 0.1: \n",
    "        \n",
    "        SE =  np.sqrt((s1**2/n1)*fpcf1 + (s2**2/n2))\n",
    "        \n",
    "    elif n2/ N > 0.1: \n",
    "        \n",
    "        SE =  np.sqrt((s1**2/n1)+ (s2**2/n2)*fpcf2)\n",
    "      \n",
    "    else:\n",
    "        SE =  np.sqrt((s1**2/n1) + (s2**2/n2))\n",
    "        \n",
    "      \n",
    "  \n",
    "    #get the degrees of freedom\n",
    "    df = min(n1-1, n2-1)\n",
    "\n",
    "    \n",
    "    #calculate the t score corresponding to the confidence level\n",
    "    t =  stats.t.ppf((conf_level + (1-conf_level)/2),df) \n",
    "    \n",
    "   \n",
    "    #calculate the margin of error\n",
    "    ME = t * SE\n",
    "    \n",
    "    lower_bound = round(np.abs(x2-x1) - ME, 2)\n",
    "    higher_bound = round(np.abs(x2-x1) + ME, 2)\n",
    "\n",
    "    print (\"confidence interval of difference of the means = [\", lower_bound, \",\", higher_bound, \"]\" )\n",
    "\n",
    "  \n",
    "conf_interval(normal_corr_Glucose, high_corr_Glucose, 0.95, 10070) "
   ]
  },
  {
   "cell_type": "code",
   "execution_count": 92,
   "id": "7cada947",
   "metadata": {},
   "outputs": [
    {
     "name": "stdout",
     "output_type": "stream",
     "text": [
      "conf interval= [ 102.61 , 113.35 ]\n",
      "conf interval= [ 120.87 , 125.84 ]\n"
     ]
    }
   ],
   "source": [
    "#confidence interval for each subgroup\n",
    "\n",
    "def confidence_interval(sample, conf_level):\n",
    "    \n",
    "    #degrees of freedom\n",
    "    df = len(sample) -1\n",
    "    \n",
    "    #t score corresponding to the confidence level\n",
    "    t =  stats.t.ppf((conf_level + (1-conf_level)/2),df) \n",
    "    \n",
    "    #the mean of glucose values\n",
    "    mean = np.mean(sample)\n",
    "    \n",
    "    #the sample standard deviation\n",
    "    std = np.std(sample, ddof =1)\n",
    "    \n",
    "    #the standard error \n",
    "    SE = std / len(sample) **.5\n",
    "    \n",
    "    #the argin of error\n",
    "    ME = t * SE\n",
    "    \n",
    "    lower_bound = round(mean - ME, 2)\n",
    "    higher_bound = round(mean + ME, 2)\n",
    "    \n",
    "    print (\"conf interval= [\", lower_bound, \",\", higher_bound, \"]\" )\n",
    "    \n",
    "    \n",
    "    \n",
    "confidence_interval(normal_corr_Glucose, 0.95)\n",
    "confidence_interval(high_corr_Glucose, 0.95)"
   ]
  },
  {
   "cell_type": "code",
   "execution_count": null,
   "id": "4650a1b2",
   "metadata": {},
   "outputs": [],
   "source": [
    "\n",
    "\n"
   ]
  }
 ],
 "metadata": {
  "kernelspec": {
   "display_name": "Python 3 (ipykernel)",
   "language": "python",
   "name": "python3"
  },
  "language_info": {
   "codemirror_mode": {
    "name": "ipython",
    "version": 3
   },
   "file_extension": ".py",
   "mimetype": "text/x-python",
   "name": "python",
   "nbconvert_exporter": "python",
   "pygments_lexer": "ipython3",
   "version": "3.9.12"
  }
 },
 "nbformat": 4,
 "nbformat_minor": 5
}
